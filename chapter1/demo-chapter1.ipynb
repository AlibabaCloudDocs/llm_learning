{
 "cells": [
  {
   "cell_type": "markdown",
   "metadata": {},
   "source": [
    "# 第 1 章 用4行代码与大模型对话\n",
    "*****"
   ]
  },
  {
   "cell_type": "markdown",
   "metadata": {},
   "source": [
    "以前经常使用搜索引擎来解决问题的你，现在大概率已经在工作中频繁使用大模型了。 但是只在网页聊天框中和大模型对话，终究有一些局限性：比如你在本地有一个超大的用户反馈表格、或者是有一些仅内部可访问的网页，想要借助大模型做一系列处理，就不太好做到了。 幸运的是，现在很多大模型服务提供商，都提供了 API 接口，可以让你方便地实现各种原本在网页聊天框中不方便、或无法实现的功能。\n",
    "\n",
    "本章将通过一个简单的例子，让你快速进入到大模型应用开发的世界。\n",
    "\n"
   ]
  },
  {
   "cell_type": "markdown",
   "metadata": {},
   "source": [
    "## 1. 准备工作\n",
    "\n",
    "### 1.1. 安装\n",
    "\n",
    "下载文档代码及安装依赖项\n",
    "```bash\n",
    "git clone https://github.com/AlibabaCloudDocs/llm_learning.git\n",
    "cd llm_learning\n",
    "pip install -r requirements.txt\n",
    "```\n",
    "\n",
    "### 1.2. 账号准备\n",
    "\n",
    "首先，您需要前往 [官网创建 API Key](https://help.aliyun.com/zh/dashscope/developer-reference/activate-dashscope-and-create-an-api-key)。接下来，请获取你的 [DASHSCOPE_API_KEY](https://dashscope.console.aliyun.com/apiKey)，\n",
    "\n",
    "####  MacOS or Linux\n",
    "您可以使用以下命令行导入环境变量\n",
    "```bash\n",
    "export DASHSCOPE_API_KEY=\"sk-****\"\n",
    "```\n",
    "\n",
    "#### Windows\n",
    "可以在终端使用[`SET`](https://learn.microsoft.com/zh-cn/windows-server/administration/windows-commands/set_1)命令设置环境变量\n",
    "```bat\n",
    "set DASHSCOPE_API_KEY=sk-****\n",
    "```\n",
    "或者在[`PowerShell`](https://learn.microsoft.com/zh-cn/powershell/module/microsoft.powershell.core/about/about_environment_variables?view=powershell-7.4)中使用以下命令行配置环境变量 \n",
    "```powershell\n",
    "$Env:DASHSCOPE_API_KEY = \"sk-****\"\n",
    "```\n",
    "\n",
    "#### Jupyter Notebook\n",
    "您可以使用[`os.environ`](https://docs.python.org/3/library/os.html)方法，在代码开头设置临时环境变量。\n"
   ]
  },
  {
   "cell_type": "markdown",
   "metadata": {},
   "source": [
    "## 2. 文本生成实验\n",
    "\n",
    "通过 langchain_community 库中封装的 Tongyi 工具，我们可以通过[灵积API](https://dashscope.console.aliyun.com/apiKey)访问通义千问，让通义千问回答问题。\n",
    "\n",
    "### 2.1. 简单文本生成\n",
    "\n",
    "首先，Tongyi 工具的接口默认是一次性输出全部生成的答案，用户需要等待数秒才能看到完整答案。下面，我们先来看看一次性生成全部答案的代码和执行效果。代码只有三行，如下："
   ]
  },
  {
   "cell_type": "code",
   "execution_count": null,
   "metadata": {},
   "outputs": [
    {
     "name": "stdout",
     "output_type": "stream",
     "text": [
      "阿里云成立于2009年9月10日，是阿里巴巴集团旗下的云计算服务品牌，提供包括计算、存储、网络、安全、数据库、大数据、人工智能等全面的云计算服务。\n"
     ]
    }
   ],
   "source": [
    "from langchain_community.llms import Tongyi\n",
    "llm = Tongyi()\n",
    "print(llm.invoke('阿里云成立于什么时间'))"
   ]
  },
  {
   "cell_type": "markdown",
   "metadata": {},
   "source": [
    "### 2.2. 流式文本生成\n",
    "\n",
    "采用LangChain封装的接口来实现流式文本生成，我们需要在创建Tongyi对象时声明采用流式输出（streaming=True），然后用一个循环来接收生成的文本，直到生成的文本为空。\n",
    ">（注意：如果你遇到了 TypeError: Additional kwargs key output_tokens already exists in left dict and value has unsupported type <class 'int'> 这个错误，请参考[github](https://github.com/langchain-ai/langchain/pull/16580)中的说明）"
   ]
  },
  {
   "cell_type": "code",
   "execution_count": 3,
   "metadata": {},
   "outputs": [
    {
     "name": "stdout",
     "output_type": "stream",
     "text": [
      "使用阿里云有以下几个主要原因：\n",
      "\n",
      "1. 稳定性与可靠性：阿里云在全球范围内拥有多个数据中心和边缘节点，提供高可用性和数据冗余备份，确保服务的稳定性和业务连续性。其“飞天”分布式操作系统能够有效防止单点故障，保证了云服务的高可靠性。\n",
      "\n",
      "2. 安全性：阿里云提供了完善的安全防护措施，包括防火墙、DDoS防护、数据加密等，保护用户的数据安全和隐私。\n",
      "\n",
      "3. 弹性和扩展性：阿里云支持按需付费和弹性伸缩，可以根据业务需求快速调整资源，避免了传统IT基础设施的高昂投入和资源浪费。\n",
      "\n",
      "4. 丰富的服务产品：阿里云提供包括计算、存储、数据库、网络、大数据、人工智能等全方位的云服务，满足不同行业和规模的企业需求。\n",
      "\n",
      "5. 技术支持和服务：阿里云有着专业的技术支持团队，提供7x24小时的技术咨询和售后服务，帮助企业解决在使用过程中遇到的问题。\n",
      "\n",
      "6. 全球化布局：阿里云在全球多地设有数据中心，能够为跨国企业提供本地化的云计算服务，助力企业全球化发展。\n",
      "\n",
      "7. 成本效益：相比于自建数据中心，使用阿里云可以显著降低硬件设备、电力、运维等成本，让企业更专注于核心业务的发展。\n",
      "\n",
      "因此，无论是初创公司还是大型企业，都可以从阿里云的服务中受益。"
     ]
    }
   ],
   "source": [
    "from langchain_community.llms import Tongyi\n",
    "llm = Tongyi(streaming=True)\n",
    "for chunk in llm.stream('为什么要使用阿里云'):\n",
    "    print(chunk, end=\"\", flush=True)\n"
   ]
  },
  {
   "cell_type": "markdown",
   "metadata": {},
   "source": [
    "## 3. 封装成文件来访问通义千问\n",
    "\n",
    "我们将上述两端代码功能封装进文件，读者可以直接调用文件来实现与大模型的对话。\n",
    "\n",
    "### 3.1. 批量输出"
   ]
  },
  {
   "cell_type": "code",
   "execution_count": 4,
   "metadata": {},
   "outputs": [
    {
     "name": "stdout",
     "output_type": "stream",
     "text": [
      "阿里云成立于2009年9月10日，是阿里巴巴集团旗下的云计算服务品牌，提供包括计算、存储、网络、安全、数据库、大数据、人工智能等全面的云计算服务。阿里云致力于为企业提供一站式的云计算解决方案，帮助企业实现数字化转型和业务增长。\n"
     ]
    }
   ],
   "source": [
    "% python main_simple.py \"阿里云是什么时候成立的\""
   ]
  },
  {
   "cell_type": "markdown",
   "metadata": {},
   "source": [
    "### 3.2. 流式输出\n"
   ]
  },
  {
   "cell_type": "code",
   "execution_count": 5,
   "metadata": {},
   "outputs": [
    {
     "name": "stdout",
     "output_type": "stream",
     "text": [
      "使用阿里云有以下几个主要的原因：\n",
      "\n",
      "1. **稳定性与可靠性**：阿里云在全球范围内拥有多个数据中心和边缘节点，提供高可用性和数据冗余备份，确保服务的稳定性和数据的安全性。其“飞天”云计算操作系统能够实现故障自动切换，减少业务中断的风险。\n",
      "\n",
      "2. **弹性扩展**：阿里云支持按需付费和弹性伸缩，可以根据业务需求随时增加或减少资源，避免了传统IT设施投资过大或资源浪费的问题。\n",
      "\n",
      "3. **全面的服务**：阿里云提供包括云服务器、云数据库、存储、CDN、大数据、人工智能等在内的全方位云服务，满足不同企业从开发、测试到运营的各种需求。\n",
      "\n",
      "4. **技术领先**：阿里云在人工智能、物联网、区块链等领域有深厚的技术积累，能够帮助企业快速接入新技术，提升竞争力。\n",
      "\n",
      "5. **安全防护**：阿里云提供了强大的安全防护措施，如DDoS防护、Web应用防火墙等，保护用户免受网络攻击。\n",
      "\n",
      "6. **全球覆盖**：阿里云在全球多地设有数据中心，可以为跨国企业提供便捷的本地化服务，帮助他们更好地拓展国际市场。\n",
      "\n",
      "7. **优质的客户服务**：阿里云提供24小时的技术支持和服务，有专业的团队解决客户在使用过程中遇到的问题。\n",
      "\n",
      "总的来说，阿里云能够帮助企业降低IT成本，提高运营效率，同时提供强大的技术支持和安全保障，是许多企业和开发者选择阿里云的重要原因。"
     ]
    }
   ],
   "source": [
    "! python main_stream.py \"为什么要使用阿里云\""
   ]
  },
  {
   "cell_type": "markdown",
   "metadata": {},
   "source": [
    "## 4. 总结\n",
    "\n",
    "通过本章的学习，你已经获得了两个与大模型对话聊天的命令行工具！你不仅已经了解了如何使用通义千问的 API，如何流式输出大模型返回的结果，并在本地运行了示例代码。 在开始下一章的学习之前，你也可以尝试调整 prompt 语句，让通义千问回答不同的问题。或者将这段代码集成到其他更复杂的场景中，来帮助你完成任务，比如从一个本地 excel 文件中逐行读取问题，并对其做出回答。\n",
    "\n"
   ]
  },
  {
   "cell_type": "markdown",
   "metadata": {},
   "source": [
    "## 5. 参考资料\n",
    "- [DashScope](https://dashscope.aliyun.com/)\n",
    "- [LangChain](https://python.langchain.com/docs)"
   ]
  }
 ],
 "metadata": {
  "kernelspec": {
   "display_name": "py310 (chatllm)",
   "language": "python",
   "name": "chatllm"
  },
  "language_info": {
   "codemirror_mode": {
    "name": "ipython",
    "version": 3
   },
   "file_extension": ".py",
   "mimetype": "text/x-python",
   "name": "python",
   "nbconvert_exporter": "python",
   "pygments_lexer": "ipython3",
   "version": "3.10.13"
  }
 },
 "nbformat": 4,
 "nbformat_minor": 2
}
