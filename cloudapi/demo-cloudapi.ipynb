{
 "cells": [
  {
   "cell_type": "markdown",
   "metadata": {},
   "source": [
    "# 如何利用通义千问查询阿里云资源\n",
    "\n",
    "作为阿里云开发者，我们常常需要查询阿里云上的资源信息，比如ECS、RDS等资源详情或产品说明。以往我们只能在官网上按步骤一页一页找到控制中心，再查到资源页面，节奏略显拖沓。如今，我们已经进入大模型时代，有什么办法可以更简便快捷的获取这些信息呢？能不能让大模型来做这件事？于是，基于LangChain的Agent架构，我们尝试制作了一个实现上述想法的大模型Agent，让大模型可以协助您查询您在阿里云上开通了哪些资源。您可以进入Jupyter Notebook环境来运行本章的代码，查询您在阿里云的资源使用情况，也可以将代码加入到您的工程项目中，利用[阿里云控制API](https://api.aliyun.com/product/cloudcontrol?tab=apis)实现更多功能，我们欢迎您将实验结果分享出来。\n",
    "\n",
    "本文我们将使用灵积API调用通义千问大模型，并利用[阿里云控制API](https://api.aliyun.com/product/cloudcontrol?tab=apis)来查询您的阿里云资源。\n",
    "\n",
    "## 学习之前\n",
    "- 本文假设你已经初步了解并使用过 python、git，因此不会涉及如何安装 [python](https://www.python.org/downloads/)、pip、[git](https://git-scm.com/) 等基础工具。\n",
    "- 本文侧重于如何将大模型 API 应用到工作中，因此并不不会详细介绍大模型以及机器学习的基础概念。\n",
    "\n",
    "\n",
    "## 1. 准备工作\n",
    "### 1.1. 环境配置\n",
    "在开始本文的学习之前，你可以先安装一下必要的依赖，以便运行相关代码：\n",
    "```bash\n",
    "pip install dashscope==1.13.6\n",
    "pip install langchain==0.1.0\n",
    "pip install langchainhub==0.1.14\n",
    "pip install langchain-experimental==0.0.49\n",
    "pip install beautifulsoup4==4.12.2\n",
    "pip install html2text==2020.1.16\n",
    "pip install alibabacloud_cloudcontrol20220830==1.1.0\n",
    "```\n",
    "\n",
    "\n",
    "### 1.2. 账号准备\n",
    "\n",
    "首先，您需要前往 [官网创建 API Key](https://help.aliyun.com/zh/dashscope/developer-reference/activate-dashscope-and-create-an-api-key)。接下来，请获取你的 [DASHSCOPE_API_KEY](https://dashscope.console.aliyun.com/apiKey)，您可以使用以下命令行导入系统，请于[RAM访问控制](https://ram.console.aliyun.com/manage/ak)查询和创建您的阿里云AK/SK\n",
    "\n",
    "####  MacOS or Linux\n",
    "您可以使用以下命令行导入环境变量\n",
    "```bash\n",
    "export DASHSCOPE_API_KEY=\"sk-****\"\n",
    "export ALIBABA_CLOUD_ACCESS_KEY_ID=\"<your access key id>\"\n",
    "export ALIBABA_CLOUD_ACCESS_KEY_SECRET=\"<your access key secret>\"\n",
    "```\n",
    "\n",
    "#### Windows\n",
    "可以在终端使用[`SET`](https://learn.microsoft.com/zh-cn/windows-server/administration/windows-commands/set_1)命令设置环境变量\n",
    "```bat\n",
    "set DASHSCOPE_API_KEY=sk-****\n",
    "set ALIBABA_CLOUD_ACCESS_KEY_ID=your access key id\n",
    "set ALIBABA_CLOUD_ACCESS_KEY_SECRET=your access key secret\n",
    "```\n",
    "或者在[`PowerShell`](https://learn.microsoft.com/zh-cn/powershell/module/microsoft.powershell.core/about/about_environment_variables?view=powershell-7.4)中使用以下命令行配置环境变量 \n",
    "```powershell\n",
    "$Env:DASHSCOPE_API_KEY = \"sk-****\"\n",
    "$Env:ALIBABA_CLOUD_ACCESS_KEY_ID = \"<your access key id>\"\n",
    "$Env:ALIBABA_CLOUD_ACCESS_KEY_SECRET = \"<your access key secret>\"\n",
    "```\n",
    "\n",
    "#### Jupyter Notebook\n",
    "您可以使用[`os.environ`](https://docs.python.org/3/library/os.html)方法，在代码开头设置临时环境变量。\n"
   ]
  },
  {
   "cell_type": "markdown",
   "metadata": {},
   "source": [
    "## 2. 搭建云资源查询AGENT\n",
    "\n",
    "### 2.1. 创建阿里云资源查询API工具"
   ]
  },
  {
   "cell_type": "code",
   "execution_count": 2,
   "metadata": {},
   "outputs": [],
   "source": [
    "# 阿里云资源查询工具\n",
    "\n",
    "# -*- coding: utf-8 -*-\n",
    "import json\n",
    "import os\n",
    "from typing import Any\n",
    "from langchain_core.tools import BaseTool\n",
    "from alibabacloud_cloudcontrol20220830.client import Client as cloudcontrol20220830Client\n",
    "from alibabacloud_tea_openapi import models as open_api_models\n",
    "from alibabacloud_cloudcontrol20220830 import models as cloudcontrol_20220830_models\n",
    "from alibabacloud_tea_util import models as util_models\n",
    "\n",
    "\n",
    "class AliyunResourceTool(BaseTool):\n",
    "    \"\"\"查询阿里云资源的工具\"\"\"\n",
    "\n",
    "    name: str = \"阿里云的云资源查询工具\"\n",
    "    description: str = (\n",
    "        \"用于查询账号下的阿里云的源信息，需要指通过 json 指定产品名 product、资源类型 resource、地域 region。\"\n",
    "        \"ECS 的默认资源为 Instance，VPC 的默认资源为 VPC。\"\n",
    "        \"region 只能是某一个指定的地域，参考格式：cn-hangzhou、cn-beijing、us-east-1\"\n",
    "    )\n",
    "\n",
    "    def _run(self, params) -> Any:\n",
    "        params_dict = json.loads(params)\n",
    "        request_path = f'/api/v1/providers/Aliyun/products/{params_dict[\"product\"]}/resources/{params_dict[\"resource\"]}'\n",
    "        get_resources_request = cloudcontrol_20220830_models.GetResourcesRequest(\n",
    "            region_id=params_dict.get(\"region\") or 'cn-hangzhou',\n",
    "            max_results=2\n",
    "        )\n",
    "        runtime = util_models.RuntimeOptions()\n",
    "        headers = {}\n",
    "        try:\n",
    "            config = open_api_models.Config(\n",
    "                access_key_id=os.environ['ALIBABA_CLOUD_ACCESS_KEY_ID'],\n",
    "                access_key_secret=os.environ['ALIBABA_CLOUD_ACCESS_KEY_SECRET']\n",
    "            )\n",
    "            # Endpoint 请参考 https://api.aliyun.com/product/cloudcontrol\n",
    "            config.endpoint = f'cloudcontrol.aliyuncs.com'\n",
    "            client = cloudcontrol20220830Client(config)\n",
    "            # 复制代码运行请自行打印 API 的返回值\n",
    "            result = client.get_resources_with_options(request_path, get_resources_request, headers, runtime)\n",
    "            return result.body\n",
    "        except Exception as error:\n",
    "            # 错误 message\n",
    "            print(error)\n",
    "            return '查询失败'\n"
   ]
  },
  {
   "cell_type": "markdown",
   "metadata": {},
   "source": [
    "### 2.2. 创建通义千问AGENT"
   ]
  },
  {
   "cell_type": "code",
   "execution_count": 11,
   "metadata": {},
   "outputs": [],
   "source": [
    "# 定义通义千问大模型AGENT\n",
    "\n",
    "# -*- coding: utf-8 -*-\n",
    "from langchain import hub\n",
    "from langchain.agents import AgentExecutor\n",
    "from langchain.agents import create_react_agent\n",
    "from langchain_community.llms import Tongyi\n",
    "\n",
    "class MyAgent():\n",
    "    def __init__(self):\n",
    "        self.agent_executor=self.assemble_agent_executor()\n",
    "\n",
    "    def assemble_agent_executor(self):\n",
    "        model = Tongyi()\n",
    "        model.model_name = 'qwen-max'\n",
    "        model.model_kwargs = {'temperature': 0.5}\n",
    "\n",
    "        tools = [\n",
    "            AliyunResourceTool(),\n",
    "        ]\n",
    "\n",
    "        prompt = hub.pull(\"hwchase17/react\")\n",
    "\n",
    "        agent = create_react_agent(model, tools, prompt)\n",
    "        agent_executor = AgentExecutor(agent=agent, tools=tools, verbose=True)\n",
    "        return agent_executor\n",
    "\n",
    "    def ask(self, question):\n",
    "        result = self.agent_executor.invoke({'input': question})\n",
    "        return result['output']"
   ]
  },
  {
   "cell_type": "markdown",
   "metadata": {},
   "source": [
    "### 2.3. 阿里云资源查询\n",
    "\n",
    "下面我们尝试利用上述代码工具来查询阿里云资源，API应用[详情点击](https://api.aliyun.com/product/cloudcontrol?tab=apis)\n",
    "\n",
    "#### 2.3.1. 使用工具查询ECS资源\n",
    "首先测试Agent初始化是否成功，是否能查询“杭州的ECS实例信息”。本账号并没有关联ECS实例，所以查询结果为空。"
   ]
  },
  {
   "cell_type": "code",
   "execution_count": 12,
   "metadata": {},
   "outputs": [
    {
     "name": "stdout",
     "output_type": "stream",
     "text": [
      "\n",
      "\n",
      "\u001b[1m> Entering new AgentExecutor chain...\u001b[0m\n",
      "\u001b[32;1m\u001b[1;3m 需要使用阿里云的云资源查询工具，获取杭州地区的ECS实例到期时间\n",
      "Action: 阿里云的云资源查询工具\n",
      "Action Input: {\"product\": \"ECS\", \"resource\": \"Instance\", \"region\": \"cn-hangzhou\"}\n",
      "\u001b[0m\u001b[36;1m\u001b[1;3m{'maxResults': 2, 'requestId': 'EC29B09F-27AF-55D8-81AE-E3F8C1ECE5A8', 'resources': [], 'totalCount': 0}\u001b[0m\u001b[32;1m\u001b[1;3m 从查询结果来看，杭州地区的ECS实例列表为空，因此无法得知任何实例的到期时间。\n",
      "Final Answer: 目前在杭州地区没有找到到期的ECS实例。请确保输入的地域信息正确或账号下存在该地域的ECS实例。\u001b[0m\n",
      "\n",
      "\u001b[1m> Finished chain.\u001b[0m\n"
     ]
    },
    {
     "data": {
      "text/plain": [
       "'目前在杭州地区没有找到到期的ECS实例。请确保输入的地域信息正确或账号下存在该地域的ECS实例。'"
      ]
     },
     "execution_count": 12,
     "metadata": {},
     "output_type": "execute_result"
    }
   ],
   "source": [
    "llm = MyAgent()\n",
    "\n",
    "llm.ask(\"杭州的ECS实例什么时候到期\")\n"
   ]
  },
  {
   "cell_type": "markdown",
   "metadata": {},
   "source": [
    "由于本章使用的测试账号没有开通ECS服务，因此反馈没有查询到ECS实例。\n",
    "\n",
    ">您可以[查看云服务产品信息](https://www.aliyun.com/product/ecs?source=5176.11533457#/)通过阿里云权益中心购买的 99 元/年的经济型 2核2G ECS 实例，新老客户都可以购买，并且后续可以 99 元续费。您可以参考[阿里云便宜服务器优惠合集](https://developer.aliyun.com/article/1445729)参与优惠活动\n",
    "\n",
    "#### 2.3.2. 查询更多阿里云资源\n",
    "\n",
    "接下来，我们在不做任何代码改动的情况下查询VPC信息。理论上我们可以查询[API应用范围](https://api.aliyun.com/product/cloudcontrol?tab=apis)的所有资源。"
   ]
  },
  {
   "cell_type": "code",
   "execution_count": 19,
   "metadata": {},
   "outputs": [
    {
     "name": "stdout",
     "output_type": "stream",
     "text": [
      "\n",
      "\n",
      "\u001b[1m> Entering new AgentExecutor chain...\u001b[0m\n",
      "\u001b[32;1m\u001b[1;3m 需要查询我在上海地区的VPC资源\n",
      "Action: 阿里云的云资源查询工具\n",
      "Action Input: {\"product\": \"VPC\", \"resource\": \"VPC\", \"region\": \"cn-shanghai\"}\n",
      "\u001b[0m\u001b[36;1m\u001b[1;3m{'maxResults': 2, 'requestId': '448C226E-CD30-5F33-BCA6-DCEE8794F8BD', 'resources': [], 'totalCount': 0}\u001b[0m\u001b[32;1m\u001b[1;3m 我现在知道最终答案\n",
      "Final Answer: 您在上海地区没有VPC资源。\u001b[0m\n",
      "\n",
      "\u001b[1m> Finished chain.\u001b[0m\n"
     ]
    },
    {
     "data": {
      "text/plain": [
       "'您在上海地区没有VPC资源。'"
      ]
     },
     "execution_count": 19,
     "metadata": {},
     "output_type": "execute_result"
    }
   ],
   "source": [
    "llm.ask(\"我在上海有没有VPC\")"
   ]
  },
  {
   "cell_type": "markdown",
   "metadata": {},
   "source": [
    "#### 2.3.3. 通义千问无需工具就能回答的问题\n",
    "\n",
    "最后，我们看看大模型是如何回答不在API范围内的问题的，这里我们将询问ECS的定价策略，通义千问能直接给出合理的答案。"
   ]
  },
  {
   "cell_type": "code",
   "execution_count": 20,
   "metadata": {},
   "outputs": [
    {
     "name": "stdout",
     "output_type": "stream",
     "text": [
      "\n",
      "\n",
      "\u001b[1m> Entering new AgentExecutor chain...\u001b[0m\n",
      "\u001b[32;1m\u001b[1;3m 我会回答。\n",
      "Final Answer: 阿里云ECS服务的定价主要基于以下几个因素：\n",
      "\n",
      "1. 实例类型：包括实例规格（如计算型c6、内存型r5等）、CPU核数、内存大小等。不同的实例类型性能配置不同，价格也会有所差异。\n",
      "\n",
      "2. 地域：同一实例在不同地域的价格可能会有所不同。\n",
      "\n",
      "3. 系统镜像：选择的操作系统类型和镜像版本也会影响定价，例如Windows镜像会比Linux镜像收费高一些。\n",
      "\n",
      "4. 存储类型与容量：ECS实例使用的数据盘类型（如高效云盘、SSD云盘、ESSD云盘等）及容量大小会影响价格。\n",
      "\n",
      "5. 计费方式：阿里云提供了按量付费（即按小时计费）和包年包月两种计费方式。按量付费模式下，您只需为实际使用的计算资源付费；包年包月则需要预先支付一定费用，一般情况下此种计费方式相比按量付费更为经济。\n",
      "\n",
      "6. 其他增值服务：如安全组、负载均衡、快照、备份等额外服务会产生额外费用。\n",
      "\n",
      "要获取准确的ECS实例定价信息，请访问阿里云官方产品页面或者使用阿里云官方提供的定价计算器进行详细计算：https://www.aliyun.com/price/product#/ecs 。\u001b[0m\n",
      "\n",
      "\u001b[1m> Finished chain.\u001b[0m\n"
     ]
    }
   ],
   "source": [
    "ans = llm.ask(\"ECS服务如何定价\")"
   ]
  },
  {
   "cell_type": "markdown",
   "metadata": {},
   "source": [
    "#### 2.3.4. 封装成文件来执行\n",
    "\n",
    "上述代码我们封装在文件 aliyun_resource_agent.py 中，你可以使用如下的指令来执行"
   ]
  },
  {
   "cell_type": "code",
   "execution_count": 4,
   "metadata": {},
   "outputs": [
    {
     "name": "stdout",
     "output_type": "stream",
     "text": [
      "问题：我在上海有没有VPC\n",
      "\n",
      "\n",
      "\u001b[1m> Entering new AgentExecutor chain...\u001b[0m\n",
      "\u001b[32;1m\u001b[1;3m 需要查询用户在上海的VPC资源\n",
      "Action: 阿里云的云资源查询工具\n",
      "Action Input: {\"product\": \"VPC\", \"resource\": \"VPC\", \"region\": \"cn-shanghai\"}\n",
      "\u001b[0m\u001b[36;1m\u001b[1;3m{'maxResults': 2, 'requestId': '99B869A2-8F8C-53A8-AC0C-F53DD4571BC9', 'resources': [], 'totalCount': 0}\u001b[0m\u001b[32;1m\u001b[1;3m 根据查询结果，用户在上海没有VPC资源\n",
      "Final Answer: 您在上海没有VPC资源。\u001b[0m\n",
      "\n",
      "\u001b[1m> Finished chain.\u001b[0m\n",
      "您在上海没有VPC资源。\n"
     ]
    }
   ],
   "source": [
    "!python aliyun_resource_agent.py \"我在上海有没有VPC\""
   ]
  },
  {
   "cell_type": "markdown",
   "metadata": {},
   "source": [
    "## 3. 参考资料\n",
    "- [阿里云控制API](https://api.aliyun.com/product/cloudcontrol?tab=apis)\n",
    "- [DashScope](https://dashscope.aliyun.com/)\n",
    "- [通义灵码](https://help.aliyun.com/document_detail/2590613.html)\n",
    "- [LangChain- 基于语义相似度的路由](https://python.langchain.com/docs/expression_language/cookbook/embedding_router)\n",
    "\n"
   ]
  }
 ],
 "metadata": {
  "kernelspec": {
   "display_name": "chatllm",
   "language": "python",
   "name": "python3"
  },
  "language_info": {
   "codemirror_mode": {
    "name": "ipython",
    "version": 3
   },
   "file_extension": ".py",
   "mimetype": "text/x-python",
   "name": "python",
   "nbconvert_exporter": "python",
   "pygments_lexer": "ipython3",
   "version": "3.10.13"
  }
 },
 "nbformat": 4,
 "nbformat_minor": 2
}
